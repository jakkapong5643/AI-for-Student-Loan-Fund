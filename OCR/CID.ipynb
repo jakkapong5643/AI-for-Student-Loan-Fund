{
 "cells": [
  {
   "cell_type": "code",
   "execution_count": null,
   "id": "15417485",
   "metadata": {},
   "outputs": [],
   "source": [
    "import os\n",
    "import pdfplumber\n",
    "import shutil\n",
    "\n",
    "folder_path = r'\\PDF'\n",
    "output_text_folder = r'\\Output\\text_based'\n",
    "output_cid_folder = r'\\Output\\cid_based'\n",
    "\n",
    "os.makedirs(output_text_folder, exist_ok=True)\n",
    "os.makedirs(output_cid_folder, exist_ok=True)\n",
    "\n",
    "def cid(text):\n",
    "    return text is not None and '(cid:' in text\n",
    "\n",
    "for filename in os.listdir(folder_path):\n",
    "    if filename.lower().endswith('.pdf'):\n",
    "        full_path = os.path.join(folder_path, filename)\n",
    "        with pdfplumber.open(full_path) as pdf:\n",
    "            page = pdf.pages[0]\n",
    "            text = page.extract_text()\n",
    "            if text:\n",
    "                if cid(text):\n",
    "                    shutil.copy(full_path, os.path.join(output_cid_folder, filename))\n",
    "                    print(f\"File {filename} CID-based\")\n",
    "                else:\n",
    "                    shutil.copy(full_path, os.path.join(output_text_folder, filename))\n",
    "                    print(f\"File {filename} Text-based\")\n",
    "            else:\n",
    "                shutil.copy(full_path, os.path.join(output_cid_folder, filename))\n",
    "                print(f\"File {filename} CID-based\")\n"
   ]
  }
 ],
 "metadata": {
  "language_info": {
   "name": "python"
  }
 },
 "nbformat": 4,
 "nbformat_minor": 5
}
